{
 "cells": [
  {
   "cell_type": "code",
   "execution_count": 11,
   "id": "75dfee7f",
   "metadata": {},
   "outputs": [],
   "source": [
    "import folium\n",
    "from selenium import webdriver\n",
    "from selenium.webdriver.chrome.service import Service\n",
    "from webdriver_manager.chrome import ChromeDriverManager\n",
    "from selenium.webdriver.chrome.options import Options\n",
    "from PIL import Image\n",
    "import time\n",
    "import os\n",
    "import requests"
   ]
  },
  {
   "cell_type": "code",
   "execution_count": 2,
   "id": "222f9650",
   "metadata": {},
   "outputs": [
    {
     "name": "stdout",
     "output_type": "stream",
     "text": [
      "Fetching satellite image for lat=29.38, lon=79.46\n",
      "Failed to download image. Status code: 404\n"
     ]
    }
   ],
   "source": [
    "def download_satellite_image(lat, lon, zoom=13, size=(512, 512), save_path='satellite_image.png'):\n",
    "    # Use public Sentinel-2 WMS layer (from Sentinel Hub)\n",
    "    tile_url = (\n",
    "        f\"https://services.sentinel-hub.com/ogc/wms/\"\n",
    "        f\"demo?REQUEST=GetMap&SERVICE=WMS&VERSION=1.3.0&\"\n",
    "        f\"BBOX={lat-0.02},{lon-0.02},{lat+0.02},{lon+0.02}&\"\n",
    "        f\"CRS=EPSG:4326&WIDTH={size[0]}&HEIGHT={size[1]}&\"\n",
    "        f\"LAYERS=TRUE_COLOR&FORMAT=image/png&TRANSPARENT=FALSE&\"\n",
    "        f\"TIME=2023-07-01/2023-07-10\"  # Date range for recent imagery\n",
    "    )\n",
    "\n",
    "    print(f\"Fetching satellite image for lat={lat}, lon={lon}\")\n",
    "    response = requests.get(tile_url)\n",
    "\n",
    "    if response.status_code == 200:\n",
    "        with open(save_path, 'wb') as f:\n",
    "            f.write(response.content)\n",
    "        print(f\"Image saved to: {save_path}\")\n",
    "    else:\n",
    "        print(\"Failed to download image. Status code:\", response.status_code)\n",
    "\n",
    "# Example usage\n",
    "latitude = 29.38\n",
    "longitude = 79.46\n",
    "download_satellite_image(latitude, longitude)\n"
   ]
  },
  {
   "cell_type": "code",
   "execution_count": 3,
   "id": "5073b808",
   "metadata": {},
   "outputs": [],
   "source": [
    "def visualize_on_map(lat, lon):\n",
    "    m = folium.Map(location=[lat, lon], zoom_start=13)\n",
    "    folium.TileLayer(\n",
    "        tiles=\"https://services.sentinel-hub.com/ogc/wms/demo\"\n",
    "              \"?REQUEST=GetMap&SERVICE=WMS&VERSION=1.3.0&\"\n",
    "              \"LAYERS=TRUE_COLOR&FORMAT=image/png&\"\n",
    "              \"TIME=2023-07-01/2023-07-10\",\n",
    "        attr='Sentinel-Hub',\n",
    "        name='Sentinel-2',\n",
    "        overlay=True,\n",
    "        control=True,\n",
    "    ).add_to(m)\n",
    "    folium.Marker([lat, lon], tooltip=\"Center\").add_to(m)\n",
    "    return m\n",
    "\n",
    "# View in notebook or save as HTML\n",
    "visualize_on_map(latitude, longitude).save(\"map.html\")\n"
   ]
  },
  {
   "cell_type": "code",
   "execution_count": 13,
   "id": "6a943690",
   "metadata": {},
   "outputs": [
    {
     "name": "stdout",
     "output_type": "stream",
     "text": [
      "[✔] HTML map saved to: map_output.html\n",
      "[✔] PNG image saved to: map_output.png\n",
      "[✔] PNG image saved to: map_output.png\n"
     ]
    }
   ],
   "source": [
    "options = Options()\n",
    "options.add_argument(\"--headless\")\n",
    "options.add_argument(\"--window-size=800,800\")\n",
    "\n",
    "# Optional: if Chrome is installed in a custom path, set binary location\n",
    "options.binary_location = \"/usr/bin/google-chrome-stable\"  # Uncomment and set if needed\n",
    "\n",
    "# ✅ Correct way to initialize driver\n",
    "service = Service(executable_path=ChromeDriverManager().install())\n",
    "driver = webdriver.Chrome(service=service, options=options)\n",
    "\n",
    "\n",
    "def km_to_deg(km):\n",
    "    # Approximation: 1 degree ≈ 111 km\n",
    "    return km / 111.0\n",
    "\n",
    "def generate_satellite_map(lat, lon, radius_km, zoom=14, output_prefix=\"map_output\"):\n",
    "    delta = km_to_deg(radius_km)\n",
    "\n",
    "    # Create folium map\n",
    "    m = folium.Map(location=[lat, lon], zoom_start=zoom, tiles=None)\n",
    "    \n",
    "    # Add Esri Satellite tile\n",
    "    folium.TileLayer(\n",
    "        tiles=\"https://server.arcgisonline.com/ArcGIS/rest/services/World_Imagery/MapServer/tile/{z}/{y}/{x}\",\n",
    "        attr=\"Esri\",\n",
    "        name=\"Esri Satellite\",\n",
    "        overlay=False,\n",
    "        control=True\n",
    "    ).add_to(m)\n",
    "\n",
    "    # Draw boundary (bounding box)\n",
    "    bounds = [[lat - delta, lon - delta], [lat + delta, lon + delta]]\n",
    "    folium.Rectangle(bounds=bounds, color='red', fill=False).add_to(m)\n",
    "    folium.Marker([lat, lon], tooltip=\"Center\").add_to(m)\n",
    "\n",
    "    # Save as HTML\n",
    "    html_file = f\"{output_prefix}.html\"\n",
    "    m.save(html_file)\n",
    "    print(f\"[✔] HTML map saved to: {html_file}\")\n",
    "\n",
    "    # Render and save as image using Selenium\n",
    "    options = Options()\n",
    "    options.add_argument(\"--headless\")\n",
    "    options.add_argument(\"--window-size=800,800\")\n",
    "    options.add_argument(\"--no-sandbox\")\n",
    "    options.add_argument(\"--disable-dev-shm-usage\")\n",
    "\n",
    "    service = Service(executable_path=ChromeDriverManager().install())\n",
    "    driver = webdriver.Chrome(service=service, options=options)\n",
    "    \n",
    "    try:\n",
    "        driver.get(f\"file://{os.path.abspath(html_file)}\")\n",
    "        time.sleep(3)  # wait for map to render\n",
    "        \n",
    "        screenshot_path = f\"{output_prefix}.png\"\n",
    "        driver.save_screenshot(screenshot_path)\n",
    "        print(f\"[✔] PNG image saved to: {screenshot_path}\")\n",
    "    finally:\n",
    "        driver.quit()  # Ensure driver is always closed\n",
    "\n",
    "# 🔽 Example usage:\n",
    "generate_satellite_map(\n",
    "    lat=11.039168,\n",
    "    lon=77.069411,\n",
    "    radius_km=1  # You can take this input from user\n",
    ")\n"
   ]
  },
  {
   "cell_type": "code",
   "execution_count": null,
   "id": "9ee25f25",
   "metadata": {},
   "outputs": [
    {
     "ename": "",
     "evalue": "",
     "output_type": "error",
     "traceback": [
      "\u001b[1;31mThe kernel failed to start as the Python Environment 'Python 3.12.11' is no longer available. Consider selecting another kernel or refreshing the list of Python Environments."
     ]
    }
   ],
   "source": [
    "import geemap\n",
    "import ee\n",
    "import numpy as np\n",
    "\n",
    "# Initialize Earth Engine\n",
    "ee.Initialize()\n",
    "\n",
    "def extract_landcover_matrix(lat, lon, radius_km):\n",
    "    # Define region\n",
    "    point = ee.Geometry.Point([lon, lat])\n",
    "    region = point.buffer(radius_km * 1000).bounds()\n",
    "\n",
    "    # Use ESA WorldCover 2021 dataset (Sentinel-based, 10m resolution)\n",
    "    landcover = ee.Image(\"ESA/WorldCover/v100/2020\")\n",
    "\n",
    "    # Clip to region\n",
    "    clipped = landcover.clip(region)\n",
    "\n",
    "    # Export as NumPy array (low-res thumbnail for prototyping)\n",
    "    url = clipped.getThumbURL({\n",
    "        'region': region,\n",
    "        'dimensions': 256,\n",
    "        'format': 'png',\n",
    "        'min': 10,\n",
    "        'max': 100\n",
    "    })\n",
    "\n",
    "    print(f\"[✔] Preview your classified land cover image: {url}\")\n",
    "\n",
    "    return url\n"
   ]
  },
  {
   "cell_type": "code",
   "execution_count": null,
   "id": "05d8c634",
   "metadata": {},
   "outputs": [],
   "source": []
  }
 ],
 "metadata": {
  "kernelspec": {
   "display_name": "Python 3",
   "language": "python",
   "name": "python3"
  },
  "language_info": {
   "codemirror_mode": {
    "name": "ipython",
    "version": 3
   },
   "file_extension": ".py",
   "mimetype": "text/x-python",
   "name": "python",
   "nbconvert_exporter": "python",
   "pygments_lexer": "ipython3",
   "version": "3.12.11"
  }
 },
 "nbformat": 4,
 "nbformat_minor": 5
}
